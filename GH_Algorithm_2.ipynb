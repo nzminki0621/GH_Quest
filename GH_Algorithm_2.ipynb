{
 "metadata": {
  "language_info": {
   "codemirror_mode": {
    "name": "ipython",
    "version": 3
   },
   "file_extension": ".py",
   "mimetype": "text/x-python",
   "name": "python",
   "nbconvert_exporter": "python",
   "pygments_lexer": "ipython3",
   "version": "3.7.6-final"
  },
  "orig_nbformat": 2,
  "kernelspec": {
   "name": "python3",
   "display_name": "Python 3"
  }
 },
 "nbformat": 4,
 "nbformat_minor": 2,
 "cells": [
  {
   "cell_type": "code",
   "execution_count": 3,
   "metadata": {
    "tags": []
   },
   "outputs": [],
   "source": [
    "#랜덤 번호 생성 - 중복이 없어야 하므로 모든 4자리 번호 중에서 임의로 선택 \n",
    "#모든 4자리수를 저장한 list \n",
    "random_pool = []\n",
    "for i in range(10000):\n",
    "    if i < 10:\n",
    "        random_pool.append('000'+str(i))            #10보다 작은 수일 경우 앞에 000 추가\n",
    "    elif i < 100:\n",
    "        random_pool.append('00'+str(i))             #100보다 작은 수일 경우 앞에 00 추가\n",
    "    elif i < 1000:\n",
    "        random_pool.append('0'+str(i))              #1000보다 작은 수일 경우 앞에 0 추가\n",
    "    else:\n",
    "        random_pool.append(str(i))\n",
    "\n",
    "#학부, 석사, 박사의 경우 마지막 4자리는 같아도 되므로 3개의 독립적인 리스트 복사\n",
    "import copy\n",
    "random_undergraduate = copy.deepcopy(random_pool)\n",
    "random_master = copy.deepcopy(random_pool)\n",
    "random_doc = copy.deepcopy(random_pool)\n"
   ]
  },
  {
   "cell_type": "code",
   "execution_count": 7,
   "metadata": {
    "tags": []
   },
   "outputs": [],
   "source": [
    "#학번 생성 함수\n",
    "import random\n",
    "def make_ID(year,student_type):\n",
    "    if student_type == '학부':\n",
    "        #0부터 random_undergraduate의 item 갯수 사이의 임의의 숫자 선택 \n",
    "        random_number1 = int(random.random()*len(random_undergraduate)) \n",
    "        #입학년도, 학부/석사/박사 코드, 랜덤값(위에서 구한 임의의 숫자가 index인 item)으로 마지막 4자리 추가        \n",
    "        student_ID = year + '-' + '1' + random_undergraduate.pop(random_number1)  \n",
    "        #이하 동일한 과정\n",
    "    elif student_type == '석사':    \n",
    "        random_number2 = int(random.random()*len(random_master))\n",
    "        student_ID = year + '-' + '2' + random_master.pop(random_number2)\n",
    "\n",
    "    elif student_type == '박사':\n",
    "        random_number3 = int(random.random()*len(random_doc))\n",
    "        student_ID = year + '-' + '3' + random_doc.pop(random_number3)\n",
    "\n",
    "    return student_ID"
   ]
  },
  {
   "cell_type": "code",
   "execution_count": 8,
   "metadata": {},
   "outputs": [],
   "source": [
    "#학번 딕셔너리 선언\n",
    "ID_dic = {}"
   ]
  },
  {
   "cell_type": "code",
   "execution_count": 9,
   "metadata": {
    "tags": []
   },
   "outputs": [
    {
     "output_type": "stream",
     "name": "stdout",
     "text": "다음의 정보가 성공적으로 입력되었습니다. 이민기: 2017-10434\n다음의 정보가 성공적으로 입력되었습니다. 이현기: 2018-21992\n{'이민기': '2017-10434', '이현기': '2018-21992'}\n"
    }
   ],
   "source": [
    "#딕셔너리에 저장 함수 - partype 확인 먼저\n",
    "def save_ID_dic(year,student_type,student_name):\n",
    "    #parameter가 바른 형식인지 확인\n",
    "    if not(type(year) == str and year.isnumeric()):\n",
    "        print('연도를 다시 입력해주십시오. 연도는 string type의 숫자여야 합니다. 입력한 정보는 다음과 같습니다. %s, %s, %s' %(str(year),student_type,student_name))\n",
    "    elif not student_type in ['학부', '석사', '박사']:\n",
    "        print('학부/석사/박사 여부를 다시 입력해주십시오. 입력한 정보는 다음과 같습니다. %s, %s, %s' %(year,student_type,student_name))\n",
    "    elif type(student_name) != str:\n",
    "        print('학생 이름을 다시 입력해주십시오. 입력한 정보는 다음과 같습니다. %s, %s, %s' %(year,student_type,student_name))\n",
    "    \n",
    "    else:\n",
    "        student_ID = make_ID(year,student_type)\n",
    "        ID_dic[student_name] = student_ID\n",
    "        print('다음의 정보가 성공적으로 입력되었습니다. %s: %s' %(student_name, student_ID))\n",
    "\n",
    "#test\n",
    "save_ID_dic('2017','학부','이민기')\n",
    "save_ID_dic('2018','석사','이현기')\n",
    "print(ID_dic)"
   ]
  },
  {
   "cell_type": "code",
   "execution_count": null,
   "metadata": {},
   "outputs": [],
   "source": []
  }
 ]
}