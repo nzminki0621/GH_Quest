{
 "metadata": {
  "language_info": {
   "codemirror_mode": {
    "name": "ipython",
    "version": 3
   },
   "file_extension": ".py",
   "mimetype": "text/x-python",
   "name": "python",
   "nbconvert_exporter": "python",
   "pygments_lexer": "ipython3",
   "version": "3.7.6-final"
  },
  "orig_nbformat": 2,
  "kernelspec": {
   "name": "python3",
   "display_name": "Python 3"
  }
 },
 "nbformat": 4,
 "nbformat_minor": 2,
 "cells": [
  {
   "cell_type": "code",
   "execution_count": 1,
   "metadata": {
    "tags": []
   },
   "outputs": [
    {
     "output_type": "stream",
     "name": "stdout",
     "text": "0003 0010 0101\n"
    }
   ],
   "source": [
    "#랜덤 번호 생성 - 중복이 없어야 하므로 모든 4자리 번호 중에서 임의로 선택 \n",
    "##모든 4자리수를 string type으로 저장한 list 생성\n",
    "import math\n",
    "#자리수마다 앞에 '0'이 몇 개 붙느냐에 유의\n",
    "random_pool = list(map(lambda x: '0'*(3 - int(math.log10(x)))+str(x) if x>0 else '0000', range(10000)))\n",
    "\n",
    "#학부, 석사, 박사의 경우 마지막 4자리는 같아도 되므로 위의 list를 3개의 독립적인 변수에 복사\n",
    "import copy\n",
    "random_ug = copy.deepcopy(random_pool)      #학부\n",
    "random_mas = copy.deepcopy(random_pool)     #석사\n",
    "random_doc = copy.deepcopy(random_pool)     #박사\n",
    "\n",
    "#Test\n",
    "print(random_ug[3], random_mas[10], random_doc[101])"
   ]
  },
  {
   "cell_type": "code",
   "execution_count": 2,
   "metadata": {
    "tags": []
   },
   "outputs": [
    {
     "output_type": "execute_result",
     "data": {
      "text/plain": "'2014-37178'"
     },
     "metadata": {},
     "execution_count": 2
    }
   ],
   "source": [
    "#학번 생성 함수\n",
    "import random\n",
    "def make_ID(year,student_type):\n",
    "    if student_type == '학부':\n",
    "        #입학년도, 학부/석사/박사 코드, 랜덤값(0부터 random_ug의 item 갯수 사이의 임의의 숫자)으로 4자리 추가        \n",
    "        student_ID = year + '-' + '1' + random_ug.pop(random.randint(0,len(random_ug)))  \n",
    "        #이하 동일한 과정\n",
    "    elif student_type == '석사': \n",
    "        student_ID = year + '-' + '2' + random_mas.pop(random.randint(0,len(random_mas)))\n",
    "    elif student_type == '박사':\n",
    "        student_ID = year + '-' + '3' + random_doc.pop(random.randint(0,len(random_doc)))\n",
    "\n",
    "    return student_ID\n",
    "#Test - 시행하면 반환되는 랜덤 네자리수가 list에서 빠짐에 유의\n",
    "make_ID('2014','박사')"
   ]
  },
  {
   "cell_type": "code",
   "execution_count": 3,
   "metadata": {
    "tags": []
   },
   "outputs": [
    {
     "output_type": "stream",
     "name": "stdout",
     "text": "다음의 정보가 성공적으로 입력되었습니다. 김그로스: 2019-12135\n{'김그로스': '2019-12135'}\n다음의 정보가 성공적으로 입력되었습니다. 최해커스: 2014-35459\n{'김그로스': '2019-12135', '최해커스': '2014-35459'}\n"
    }
   ],
   "source": [
    "#학번 딕셔너리 선언\n",
    "ID_dic = {}\n",
    "#딕셔너리에 저장 함수 - 먼저 parameter type 체크\n",
    "def save_ID_dic(year,student_type,student_name):\n",
    "    #parameter가 바른 형식인지 확인\n",
    "    if not(type(year) == str and year.isnumeric()):\n",
    "        print('연도를 다시 입력해주십시오. 연도는 string type의 숫자여야 합니다. 입력한 정보는 다음과 같습니다. %s, %s, %s' %(str(year),student_type,student_name))\n",
    "    elif not student_type in ['학부', '석사', '박사']:\n",
    "        print('학부/석사/박사 여부를 다시 입력해주십시오. 입력한 정보는 다음과 같습니다. %s, %s, %s' %(year,student_type,student_name))\n",
    "    elif type(student_name) != str:\n",
    "        print('학생 이름을 다시 입력해주십시오. 입력한 정보는 다음과 같습니다. %s, %s, %s' %(year,student_type,student_name))\n",
    "    #입력된 정보 딕셔너리에 저장\n",
    "    else:\n",
    "        student_ID = make_ID(year,student_type)\n",
    "        ID_dic[student_name] = student_ID\n",
    "        #여러 명을 입력할 때를 고려해 시행 결과 로그\n",
    "        print('다음의 정보가 성공적으로 입력되었습니다. %s: %s' %(student_name, student_ID))\n",
    "\n",
    "#Test\n",
    "save_ID_dic('2019','학부','김그로스')\n",
    "print(ID_dic)\n",
    "save_ID_dic('2014','박사','최해커스')\n",
    "print(ID_dic)"
   ]
  },
  {
   "cell_type": "code",
   "execution_count": null,
   "metadata": {},
   "outputs": [],
   "source": []
  },
  {
   "cell_type": "code",
   "execution_count": null,
   "metadata": {},
   "outputs": [],
   "source": []
  }
 ]
}