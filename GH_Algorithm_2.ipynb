{
 "metadata": {
  "language_info": {
   "codemirror_mode": {
    "name": "ipython",
    "version": 3
   },
   "file_extension": ".py",
   "mimetype": "text/x-python",
   "name": "python",
   "nbconvert_exporter": "python",
   "pygments_lexer": "ipython3",
   "version": "3.7.6-final"
  },
  "orig_nbformat": 2,
  "kernelspec": {
   "name": "python3",
   "display_name": "Python 3"
  }
 },
 "nbformat": 4,
 "nbformat_minor": 2,
 "cells": [
  {
   "cell_type": "code",
   "execution_count": 86,
   "metadata": {
    "tags": []
   },
   "outputs": [],
   "source": [
    "#랜덤 번호 생성 - 중복이 없어야 하므로 모든 4자리 번호 중에서 임의로 선택 \n",
    "random_pool = []\n",
    "for i in range(10000):\n",
    "    if i < 10:\n",
    "        random_pool.append('000'+str(i))            #10보다 작은 수일 경우 앞에 000 추가\n",
    "    elif i < 100:\n",
    "        random_pool.append('00'+str(i))             #100보다 작은 수일 경우 앞에 00 추가\n",
    "    elif i < 1000:\n",
    "        random_pool.append('0'+str(i))              #1000보다 작은 수일 경우 앞에 0 추가\n",
    "    else:\n",
    "        random_pool.append(str(i))\n",
    "\n",
    "#학부, 석사, 박사의 경우 마지막 4자리는 같아도 되므로 3개의 독립적인 리스트 복사\n",
    "import copy\n",
    "random_undergraduate = copy.deepcopy(random_pool)\n",
    "random_master = copy.deepcopy(random_pool)\n",
    "random_doc = copy.deepcopy(random_pool)\n"
   ]
  },
  {
   "cell_type": "code",
   "execution_count": 87,
   "metadata": {
    "tags": []
   },
   "outputs": [],
   "source": [
    "#학번 생성 함수\n",
    "import random\n",
    "def make_ID(year,student_type):\n",
    "    if student_type == '학부':\n",
    "        random_number1 = int(random.random()*len(random_undergraduate))\n",
    "        output = year + '-' + '1' + random_undergraduate.pop(random_number1)\n",
    "    elif student_type == '석사':\n",
    "        random_number2 = int(random.random()*len(random_master))\n",
    "        output = year + '-' + '2' + random_master.pop(random_number2)\n",
    "    elif student_type == '박사':\n",
    "        random_number3 = int(random.random()*len(random_doc))\n",
    "        output = year + '-' + '3' + random_doc.pop(random_number3)\n",
    "    return output"
   ]
  },
  {
   "cell_type": "code",
   "execution_count": 88,
   "metadata": {},
   "outputs": [],
   "source": [
    "#학번 딕셔너리 선언\n",
    "ID_dic = {}"
   ]
  },
  {
   "cell_type": "code",
   "execution_count": 93,
   "metadata": {
    "tags": []
   },
   "outputs": [
    {
     "output_type": "stream",
     "name": "stdout",
     "text": "{'이민기': '2017-12458', '이현기': '2018-26096'}\n"
    }
   ],
   "source": [
    "#딕셔너리에 저장 함수 - partype 확인 먼저\n",
    "def save_ID_dic(year,student_type,student_name):\n",
    "    ID_dic[student_name] = make_ID(year,student_type)\n",
    "\n",
    "save_ID_dic('2017','학부','이민기')\n",
    "save_ID_dic('2018','석사','이현기')\n",
    "print(ID_dic)"
   ]
  },
  {
   "cell_type": "code",
   "execution_count": null,
   "metadata": {},
   "outputs": [],
   "source": []
  },
  {
   "cell_type": "code",
   "execution_count": null,
   "metadata": {},
   "outputs": [],
   "source": []
  }
 ]
}