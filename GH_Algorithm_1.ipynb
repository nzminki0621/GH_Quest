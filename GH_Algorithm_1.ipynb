{
 "metadata": {
  "language_info": {
   "codemirror_mode": {
    "name": "ipython",
    "version": 3
   },
   "file_extension": ".py",
   "mimetype": "text/x-python",
   "name": "python",
   "nbconvert_exporter": "python",
   "pygments_lexer": "ipython3",
   "version": "3.7.6-final"
  },
  "orig_nbformat": 2,
  "kernelspec": {
   "name": "python3",
   "display_name": "Python 3"
  }
 },
 "nbformat": 4,
 "nbformat_minor": 2,
 "cells": [
  {
   "cell_type": "code",
   "execution_count": 66,
   "metadata": {
    "tags": []
   },
   "outputs": [
    {
     "output_type": "execute_result",
     "data": {
      "text/plain": "False"
     },
     "metadata": {},
     "execution_count": 66
    }
   ],
   "source": [
    "#소수 판단 함수\n",
    "#boolean 형태로 값을 반환합니다.\n",
    "def is_prime(num) :\n",
    "    if num > 1 :                            #num이 1이 아닌 경우\n",
    "        for i in range(2, int(num/2)+1) :     #num\n",
    "            if num % i == 0:\n",
    "                return False\n",
    "        return True\n",
    "    else: return False\n",
    "\n",
    "#Test\n",
    "is_prime(23)\n"
   ]
  },
  {
   "cell_type": "code",
   "execution_count": 58,
   "metadata": {
    "tags": []
   },
   "outputs": [
    {
     "output_type": "execute_result",
     "data": {
      "text/plain": "[2, 23, 3]"
     },
     "metadata": {},
     "execution_count": 58
    }
   ],
   "source": [
    "#연속적으로 잘라 만들 수 있는 수를 list로 반환하는 함수\n",
    "def slice_num(num) :\n",
    "    output = []                             #아웃풋으로 써먹을 빈 list\n",
    "    str_num = str(num)                      #자릿수 관련 이용을 편하게 하기 위해 string 자료구조로 변환\n",
    "    for i in range(len(str_num)):\n",
    "        for j in range(len(str_num)):\n",
    "            if (str_num[i:j+1] != \"\"):\n",
    "                output.append(int(str_num[i:j+1]))\n",
    "    return output\n",
    "        \n",
    "\n",
    "#Test\n",
    "slice_num(23)"
   ]
  },
  {
   "cell_type": "code",
   "execution_count": 68,
   "metadata": {},
   "outputs": [
    {
     "output_type": "execute_result",
     "data": {
      "text/plain": "False"
     },
     "metadata": {},
     "execution_count": 68
    }
   ],
   "source": [
    "#해당 수가 체인 소수인지 판단\n",
    "def is_chain_prime(num) :\n",
    "    for i in slice_num(num):\n",
    "        if not is_prime(i):\n",
    "            return False\n",
    "    return True\n",
    "\n",
    "#Test\n",
    "is_chain_prime(127)"
   ]
  },
  {
   "cell_type": "code",
   "execution_count": null,
   "metadata": {},
   "outputs": [],
   "source": []
  }
 ]
}