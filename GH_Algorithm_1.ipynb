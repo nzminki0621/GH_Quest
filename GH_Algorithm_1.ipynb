{
 "metadata": {
  "language_info": {
   "codemirror_mode": {
    "name": "ipython",
    "version": 3
   },
   "file_extension": ".py",
   "mimetype": "text/x-python",
   "name": "python",
   "nbconvert_exporter": "python",
   "pygments_lexer": "ipython3",
   "version": "3.7.6-final"
  },
  "orig_nbformat": 2,
  "kernelspec": {
   "name": "python3",
   "display_name": "Python 3"
  }
 },
 "nbformat": 4,
 "nbformat_minor": 2,
 "cells": [
  {
   "cell_type": "code",
   "execution_count": 1,
   "metadata": {
    "tags": []
   },
   "outputs": [
    {
     "output_type": "execute_result",
     "data": {
      "text/plain": "True"
     },
     "metadata": {},
     "execution_count": 1
    }
   ],
   "source": [
    "#소수 판단 함수\n",
    "#boolean 형태로 값을 반환합니다.\n",
    "import math\n",
    "def is_prime(num) :\n",
    "    if num > 1 :    #num이 1이 아닌 경우\n",
    "        #부하가 크게 올 수 있는 상황을 고려해 num의 제곱근 이하의 정수까지 나누어지는지 여부만 확인\n",
    "        for i in range(2, int(math.sqrt(num))+1):       \n",
    "            if num % i == 0 :\n",
    "                #나누어 떨어지는 수가 있는 경우 False 반환\n",
    "                return False \n",
    "        #나누어 떨어지는 수가 없는 경우 True 반환                                   \n",
    "        return True \n",
    "    #num이 1인 경우 False 반환                                    \n",
    "    else: return False                                  \n",
    "\n",
    "#Test\n",
    "is_prime(2)\n"
   ]
  },
  {
   "cell_type": "code",
   "execution_count": 2,
   "metadata": {
    "tags": []
   },
   "outputs": [
    {
     "output_type": "execute_result",
     "data": {
      "text/plain": "[1, 2, 3, 4, 5, 12, 23, 34, 45, 123, 234, 345, 1234, 2345, 12345]"
     },
     "metadata": {},
     "execution_count": 2
    }
   ],
   "source": [
    "#연속적으로 잘라 만들 수 있는 수를 list로 반환하는 함수\n",
    "def slice_num(num) :\n",
    "    output = []     \n",
    "    #자릿수 관련 이용을 편하게 하기 위해 string 자료구조로 변환                        \n",
    "    str_num = str(num)                          \n",
    "    for i in range(len(str_num)) :\n",
    "        for j in range(i,len(str_num)) :\n",
    "            #각 조합을 output list에 integer 자료구조로 추가    \n",
    "            output.append(int(str_num[i:j+1]))  \n",
    "    #작은 수부터 소수 여부를 확인하는 것이 효율적이므로 오름차순으로 정렬\n",
    "    output.sort()                               \n",
    "    return output\n",
    "\n",
    "#Test\n",
    "slice_num(12345)"
   ]
  },
  {
   "cell_type": "code",
   "execution_count": 6,
   "metadata": {},
   "outputs": [
    {
     "output_type": "execute_result",
     "data": {
      "text/plain": "[2, 3, 5, 7, 23, 37, 53, 73, 373]"
     },
     "metadata": {},
     "execution_count": 6
    }
   ],
   "source": [
    "#해당 수가 체인 소수인지 판단\n",
    "def is_chain_prime(num) :\n",
    "    for i in slice_num(num) :\n",
    "        if not is_prime(i) :\n",
    "            return False\n",
    "    return True\n",
    "#Test\n",
    "out = []\n",
    "for i in range(100000):\n",
    "    if is_chain_prime(i):\n",
    "        out.append(i)\n",
    "out"
   ]
  },
  {
   "cell_type": "code",
   "execution_count": null,
   "metadata": {},
   "outputs": [],
   "source": []
  }
 ]
}