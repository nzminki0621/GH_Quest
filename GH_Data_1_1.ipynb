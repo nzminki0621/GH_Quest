{
 "metadata": {
  "language_info": {
   "codemirror_mode": {
    "name": "ipython",
    "version": 3
   },
   "file_extension": ".py",
   "mimetype": "text/x-python",
   "name": "python",
   "nbconvert_exporter": "python",
   "pygments_lexer": "ipython3",
   "version": "3.7.6-final"
  },
  "orig_nbformat": 2,
  "kernelspec": {
   "name": "python3",
   "display_name": "Python 3"
  }
 },
 "nbformat": 4,
 "nbformat_minor": 2,
 "cells": [
  {
   "cell_type": "code",
   "execution_count": null,
   "metadata": {
    "tags": []
   },
   "outputs": [],
   "source": [
    "#연속형 자료 산점도 해석 및 상관분석(1)\n",
    "#필요한 패키지 가져오기\n",
    "import pandas as pd\n",
    "import numpy as np\n",
    "import matplotlib.pyplot as plt\n",
    "from sklearn.linear_model import LinearRegression\n",
    "\n",
    "app_store_df = pd.read_csv(\"./app_store.csv\")       #csv 가져오기\n",
    "\n",
    "#missing data inspection\n",
    "total = app_store_df.isnull().sum().sort_values(ascending=False)        \n",
    "print(total)\n",
    "\n",
    "#Price, Size, Installs datatype integer로 변환\n",
    "app_store_df['NPriceD'] = app_store_df.Price.map(lambda x : float(x[1:]))\n",
    "app_store_df['NSizeM'] = app_store_df.Size.map(lambda x : float(x.rstrip('M').replace(',','')) if(x[-1] == 'M') else float(x.rstrip('k').replace(',',''))/1000)\n",
    "app_store_df['Installs'] = app_store_df.Installs.map(lambda x : int(x.rstrip('+').replace(',','')))\n",
    "\n",
    "#Reviews, Installs 상용로그 취함기\n",
    "app_store_df['Reviews_logscale'] = app_store_df.Reviews.map(lambda x : np.log(x))\n",
    "app_store_df['Installs_logscale'] = app_store_df.Installs.map(lambda x : np.log(x))\n",
    "\n",
    "#변환 및 추가된 데이터 missing inspection\n",
    "total = app_store_df.isnull().sum().sort_values(ascending=False)\n",
    "print(total)\n",
    "\n",
    "#R에서 사용하기 위해 데이터프레임 내보내기\n",
    "app_store_df.to_csv('app_store_modified.csv')\n",
    "\n",
    "#산점도 그리기\n",
    "plt.figure(figsize = (8,30))\n",
    "plt.subplots_adjust(top=1)\n",
    "columns = ['Reviews','Reviews_logscale','Installs','Installs_logscale', 'NPriceD', 'NSizeM']\n",
    "ylabels = ['Reviews','log10_Reviews','Installs','log10_Installs', 'Price', 'Size']\n",
    "\n",
    "#Reviews_logscale과 Reviews에 대한 rating값 linear regression\n",
    "reg1 = LinearRegression().fit(X = app_store_df['Reviews_logscale'].values.reshape(-1,1), y = app_store_df.Rating)\n",
    "reg2 = LinearRegression().fit(X = app_store_df['Reviews'].values.reshape(-1,1), y = app_store_df.Rating)\n",
    "\n",
    "for i in list(range(6)):        #각 열에 대해 산점도 그리기\n",
    "    plt.subplot(6,1,i+1)\n",
    "    plt.title('plot'+str(i+1)+'. '+ylabels[i]+' & Rating')\n",
    "    plt.ylabel('Rating')\n",
    "    plt.xlabel(ylabels[i])\n",
    "\n",
    "    if i == 1:                  #Reviews_logscale plot xtick 단위 1\n",
    "        plt.xticks(list(range(20)))\n",
    "    elif i == 4:                #Price x값 범위 설정\n",
    "        plt.xlim(-5,40)\n",
    "    elif i == 5:                #Size x값 범위 설정\n",
    "        plt.xlim(-5,150)\n",
    "\n",
    "    plt.plot( app_store_df[columns[i]],app_store_df.Rating,'o',markersize=2)\n",
    "\n",
    "    if i == 1:                  #Reviews_logscale 선형회귀 그래프 그리기\n",
    "        plt.plot([0,14],reg1.predict([[0],[14]]),color = 'r')\n",
    "    elif i == 0:                #Reviews 선형회귀 그래프 그리기\n",
    "        plt.plot([1,650000],reg2.predict([[1],[650000]]),color = 'r')\n",
    "\n",
    "app_store_df.corr()"
   ]
  },
  {
   "cell_type": "code",
   "execution_count": null,
   "metadata": {
    "tags": []
   },
   "outputs": [],
   "source": [
    "#카테고리별 아노바 분석\n",
    "\n",
    "#아노바 분석을 위해 싸이파이 패키지 가져오기\n",
    "import scipy.stats as stats\n",
    "\n",
    "#모든 카테고리 이름 저장\n",
    "all_categories = []\n",
    "for i in list(range(len(app_store_df))):\n",
    "    if app_store_df['Category'][i] in all_categories:\n",
    "        pass\n",
    "    else:\n",
    "        all_categories.append(app_store_df['Category'][i])\n",
    "\n",
    "#ANOVA_pairs에 유의확률이 유의수준 이하인 카테고리쌍 저장\n",
    "ANOVA_pairs = []\n",
    "for i in list(range(len(all_categories))):\n",
    "    for j in list(range(i+1, len(all_categories))):\n",
    "        if stats.f_oneway(app_store_df['Rating'][app_store_df['Category'] == all_categories[i]],\n",
    "               app_store_df['Rating'][app_store_df['Category'] == all_categories[j]]).pvalue <= 0.05:\n",
    "               ANOVA_pairs.append([all_categories[i],all_categories[j]])\n",
    "\n",
    "#해당 두 카테고리의 평균치 대소관계 표시\n",
    "for i in ANOVA_pairs:\n",
    "    if app_store_df['Rating'][app_store_df['Category'] == i[0]].mean() > app_store_df['Rating'][app_store_df['Category'] == i[1]].mean():\n",
    "        print(i[0]+' > '+i[1])\n",
    "    else:\n",
    "        print(i[0]+' < '+i[1])"
   ]
  },
  {
   "cell_type": "code",
   "execution_count": null,
   "metadata": {},
   "outputs": [],
   "source": []
  }
 ]
}